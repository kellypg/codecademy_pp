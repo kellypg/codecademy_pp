{
 "cells": [
  {
   "cell_type": "markdown",
   "metadata": {},
   "source": [
    "# U.S. Medical Insurance Costs"
   ]
  },
  {
   "cell_type": "code",
   "execution_count": 1,
   "metadata": {},
   "outputs": [],
   "source": [
    "import csv"
   ]
  },
  {
   "cell_type": "markdown",
   "metadata": {},
   "source": [
    "Loading the insurance data as a complete dataset to be used for analysis. This will be in read-only mode.<br> \n",
    "<em><b>Dataset: insurance_data_complete</b></em>"
   ]
  },
  {
   "cell_type": "code",
   "execution_count": 2,
   "metadata": {
    "scrolled": true
   },
   "outputs": [],
   "source": [
    "insurance_data_complete = []\n",
    "\n",
    "with open('insurance.csv') as insurance_file:\n",
    "   #fields = ('age','sex','bmi','children','smoker','region','charges')\n",
    "    insurance_data = csv.DictReader(insurance_file, delimiter = ',')\n",
    "    \n",
    "    for line in insurance_data:\n",
    "        insurance_data_complete.append(line)\n",
    "               "
   ]
  },
  {
   "cell_type": "markdown",
   "metadata": {},
   "source": [
    "In this section I get do analysis to get a count by distinct region available in the data.<br>\n",
    "Regions list: <em><b>regions</em></b><br>\n",
    "Counts in dictionary: <em><b>counts_by_region</em></b>"
   ]
  },
  {
   "cell_type": "code",
   "execution_count": 3,
   "metadata": {},
   "outputs": [
    {
     "name": "stdout",
     "output_type": "stream",
     "text": [
      "['southwest', 'southeast', 'northwest', 'northeast']\n",
      "{'southwest': 325, 'southeast': 364, 'northwest': 325, 'northeast': 324}\n"
     ]
    }
   ],
   "source": [
    "regions = []\n",
    "counts_by_region = {}\n",
    "\n",
    "for record in insurance_data_complete:\n",
    "    if record['region'] not in regions:\n",
    "        regions.append(record['region'])\n",
    "        \n",
    "print(regions)\n",
    "        \n",
    "for region in regions:\n",
    "    count = 0\n",
    "    for record in insurance_data_complete:\n",
    "        if region == record['region']:\n",
    "            count += 1\n",
    "    \n",
    "    counts_by_region[region]= count\n",
    "print(counts_by_region)"
   ]
  },
  {
   "cell_type": "markdown",
   "metadata": {},
   "source": [
    "Here are some other general demographics of the individuals in our dataset.<br>\n",
    "Total records: <em><b>insurance_all_count</em></b><br>\n",
    "Number of male and females: <em><b>male_count</em></b>, <em><b>female_count</em></b><br>\n",
    "Percentage of smokers: <em><b>smoker_pct</em></b><br>\n",
    "Average number of children: <em><b>avg_child_count</em></b><br>"
   ]
  },
  {
   "cell_type": "code",
   "execution_count": 4,
   "metadata": {},
   "outputs": [
    {
     "name": "stdout",
     "output_type": "stream",
     "text": [
      "A quick analysis of the data set shows that we have a total of 1338 records.\n",
      "In these record are 662 females and 676 males.\n",
      "There are a total of 1465 children for an average of 1.1.\n",
      "20.0% of them are smokers.\n"
     ]
    }
   ],
   "source": [
    "insurance_all_count = 0\n",
    "male_count = 0\n",
    "female_count = 0\n",
    "smoker_count = 0\n",
    "child_count = 0\n",
    "\n",
    "for record in insurance_data_complete:\n",
    "    #count records\n",
    "    insurance_all_count += 1\n",
    "    \n",
    "    #count children\n",
    "    child_count += int(record['children'])\n",
    "    \n",
    "    #count by sex\n",
    "    if record['sex'] == 'female':\n",
    "        female_count += 1\n",
    "    else:\n",
    "        male_count += 1\n",
    "     \n",
    "    #count smokers\n",
    "    if record['smoker'] == 'yes':\n",
    "        smoker_count += 1\n",
    "        \n",
    "        \n",
    "smoker_pct = round(smoker_count/insurance_all_count, 2)\n",
    "\n",
    "child_avg = round(child_count/insurance_all_count, 1)\n",
    "\n",
    "#print results\n",
    "print('A quick analysis of the data set shows that we have a total of ' + str(insurance_all_count) + ' records.')\n",
    "print('In these record are ' + str(female_count) + ' females and ' + str(male_count) + ' males.')\n",
    "print('There are a total of ' + str(child_count) + ' children for an average of ' + str(child_avg) + '.')\n",
    "print(str((smoker_pct)*100) + '% of them are smokers.')\n",
    "    "
   ]
  },
  {
   "cell_type": "markdown",
   "metadata": {},
   "source": [
    "This block creates a function that will return a subset of the data by region."
   ]
  },
  {
   "cell_type": "code",
   "execution_count": 5,
   "metadata": {},
   "outputs": [],
   "source": [
    "def region_analysis(region):\n",
    "    region_subset = []\n",
    "    \n",
    "    for record in insurance_data_complete:\n",
    "        if region == record['region']:\n",
    "            region_subset.append(record)\n",
    "    \n",
    "    return(region_subset)      "
   ]
  },
  {
   "cell_type": "code",
   "execution_count": 6,
   "metadata": {},
   "outputs": [
    {
     "name": "stdout",
     "output_type": "stream",
     "text": [
      "In the northeast region, the average charges for a smoker is $29673.54.\n",
      "In the northeast region, the average charges for a non-smoker is $9165.53.\n",
      "In the northwest region, the average charges for a smoker is $30192.0.\n",
      "In the northwest region, the average charges for a non-smoker is $8556.46.\n",
      "In the southeast region, the average charges for a smoker is $34845.0.\n",
      "In the southeast region, the average charges for a non-smoker is $8032.22.\n",
      "In the southwest region, the average charges for a smoker is $32269.06.\n",
      "In the southwest region, the average charges for a non-smoker is $8019.28.\n"
     ]
    }
   ],
   "source": [
    "def smoker_by_region(region, smoker):\n",
    "    region_data = region_analysis(region)\n",
    "    \n",
    "    charges_total = 0\n",
    "    count = 0\n",
    "    smk_status = 'non-smoker'\n",
    "    \n",
    "    if smoker == 'yes':\n",
    "        smk_status = 'smoker'\n",
    "    \n",
    "    for record in region_data:\n",
    "        if record['smoker'] == smoker:\n",
    "            charges_total += float(record['charges'])\n",
    "            count+= 1\n",
    "            \n",
    "    avg_cost = round(charges_total/count, 2)\n",
    "            \n",
    "    print('In the ' + region + ' region, the average charges for a ' + smk_status + ' is $' + str(avg_cost) + '.' )\n",
    "\n",
    "        \n",
    "smoker_by_region('northeast', 'yes')\n",
    "smoker_by_region('northeast', 'no')\n",
    "smoker_by_region('northwest', 'yes')\n",
    "smoker_by_region('northwest', 'no')\n",
    "smoker_by_region('southeast', 'yes')\n",
    "smoker_by_region('southeast', 'no')\n",
    "smoker_by_region('southwest', 'yes')\n",
    "smoker_by_region('southwest', 'no')\n"
   ]
  },
  {
   "cell_type": "markdown",
   "metadata": {},
   "source": [
    "The summation of our quick analysis here is that regardless of the region, the insurance cost for a smoker is more than <b>3x</b> the cost for a non-smoker. In fact, it is nearly <b>4x</b>."
   ]
  }
 ],
 "metadata": {
  "kernelspec": {
   "display_name": "Python 3 (ipykernel)",
   "language": "python",
   "name": "python3"
  },
  "language_info": {
   "codemirror_mode": {
    "name": "ipython",
    "version": 3
   },
   "file_extension": ".py",
   "mimetype": "text/x-python",
   "name": "python",
   "nbconvert_exporter": "python",
   "pygments_lexer": "ipython3",
   "version": "3.10.9"
  }
 },
 "nbformat": 4,
 "nbformat_minor": 4
}
